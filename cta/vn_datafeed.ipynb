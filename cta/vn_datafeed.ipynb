{
 "cells": [
  {
   "cell_type": "code",
   "execution_count": 1,
   "metadata": {},
   "outputs": [],
   "source": [
    "#!jt -t chesterish -T -N -f roboto -fs 10\n",
    "import numpy as np\n",
    "import pandas as pd\n",
    "import akshare as ak\n",
    "from datetime import datetime as dt\n",
    "from datetime import timedelta as td\n",
    "import os\n",
    "from enum import Enum\n",
    "from typing import List\n",
    "from vnpy.trader.object import BarData\n",
    "from vnpy.trader.constant import Direction, Offset, Exchange, Interval\n",
    "import vnpy_sqlite.sqlite_database as sqlite\n",
    "class source(Enum):\n",
    "    SINA = 'sina'\n",
    "    RQ = 'rq'"
   ]
  },
  {
   "cell_type": "code",
   "execution_count": 7,
   "metadata": {},
   "outputs": [],
   "source": [
    "#func and constants\n",
    "src = source.RQ\n",
    "freq = '1'\n",
    "reFetch:bool = False\n",
    "d_format = \"%Y-%m-%d %H:%M:%S\"\n",
    "fut_contract_path = r'C:\\Users\\lingy\\git-repo\\xtt\\quantresearch\\dataset\\future_contract_hist'\n",
    "fut_gen_hist_path = r'C:\\Users\\lingy\\git-repo\\xtt\\quantresearch\\dataset\\future_generic_hist'\n",
    "fut_info_path = r'C:\\Users\\lingy\\git-repo\\xtt\\quantresearch\\dataset\\future_base_info\\rq\\futures_info_details.csv'\n",
    "#fut_contract_path = r'E:\\dataset\\future_contract_hist'\n",
    "#fut_info_path = r'E:\\dataset\\future_base_info\\rq\\futures_info_details.csv'\n",
    "\n",
    "def fetch_contract_history(ticker:str, exch:str,\\\n",
    "                           freq:str = '1',\\\n",
    "                           src: source = source.SINA,\\\n",
    "                           refetch: bool = False,\\\n",
    "                           base_path:str = './/dataset//future_contract_hist'):\n",
    "    filePath = os.path.join(base_path, src.value, freq, ticker + '.csv')\n",
    "    ticker_pd = pd.DataFrame()\n",
    "    if refetch: #only refetch from sina\n",
    "        ticker_pd = ak.futures_zh_minute_sina(symbol=ticker, period=freq)\n",
    "    else:\n",
    "        ticker_pd = pd.read_csv(filePath)\n",
    "    #augment df to fit vn bar object\n",
    "    if src ==source.SINA:\n",
    "        ticker_pd['order_book_id']=ticker\n",
    "    #shift 1min back to fit vn convention\n",
    "    ticker_pd['datetime'] = ticker_pd['datetime']\\\n",
    "    .apply(lambda r: dt.strftime(dt.strptime(r,d_format) - td(minutes = 1), d_format))\n",
    "    ticker_pd['exchange'] = exch\n",
    "    ticker_pd['gateway'] = src.value\n",
    "    return ticker_pd\n",
    "    \n",
    "def push_db(bars:List[BarData]):\n",
    "    sql_db = sqlite.SqliteDatabase()\n",
    "    pushed = sql_db.save_bar_data(bars)\n",
    "    closed = sql_db.db.close()\n",
    "    return pushed,closed\n",
    "def parseBar(row):\n",
    "    return BarData(symbol = row['order_book_id'],\\\n",
    "                   exchange = Exchange(row['exchange']),\\\n",
    "                   datetime = dt.strptime(row['datetime'],d_format),\\\n",
    "                  volume = float(row['volume']),\\\n",
    "                  open_price = float(row['open']),\\\n",
    "                  high_price = float(row['high']),\\\n",
    "                  low_price = float(row['low']),\\\n",
    "                  close_price = float(row['close']),\\\n",
    "                  interval = Interval.MINUTE,\\\n",
    "                  gateway_name = row['gateway'])"
   ]
  },
  {
   "cell_type": "code",
   "execution_count": 28,
   "metadata": {},
   "outputs": [
    {
     "ename": "OperationalError",
     "evalue": "Connection already opened.",
     "output_type": "error",
     "traceback": [
      "\u001b[1;31m---------------------------------------------------------------------------\u001b[0m",
      "\u001b[1;31mOperationalError\u001b[0m                          Traceback (most recent call last)",
      "\u001b[1;32m<ipython-input-28-b8237658821e>\u001b[0m in \u001b[0;36m<module>\u001b[1;34m\u001b[0m\n\u001b[0;32m      4\u001b[0m \u001b[0mticker_df\u001b[0m \u001b[1;33m=\u001b[0m \u001b[0mfetch_contract_history\u001b[0m\u001b[1;33m(\u001b[0m\u001b[0mticker\u001b[0m\u001b[1;33m,\u001b[0m\u001b[0mexch\u001b[0m\u001b[1;33m,\u001b[0m\u001b[0mfreq\u001b[0m\u001b[1;33m,\u001b[0m\u001b[0msrc\u001b[0m\u001b[1;33m,\u001b[0m\u001b[0mreFetch\u001b[0m\u001b[1;33m,\u001b[0m\u001b[0mbase_path\u001b[0m \u001b[1;33m=\u001b[0m \u001b[0mfut_contract_path\u001b[0m\u001b[1;33m)\u001b[0m\u001b[1;33m\u001b[0m\u001b[1;33m\u001b[0m\u001b[0m\n\u001b[0;32m      5\u001b[0m \u001b[0mbar\u001b[0m \u001b[1;33m=\u001b[0m \u001b[0mticker_df\u001b[0m\u001b[1;33m.\u001b[0m\u001b[0mapply\u001b[0m\u001b[1;33m(\u001b[0m\u001b[0mparseBar\u001b[0m\u001b[1;33m,\u001b[0m\u001b[0maxis\u001b[0m \u001b[1;33m=\u001b[0m \u001b[1;36m1\u001b[0m\u001b[1;33m)\u001b[0m\u001b[1;33m.\u001b[0m\u001b[0mto_list\u001b[0m\u001b[1;33m(\u001b[0m\u001b[1;33m)\u001b[0m\u001b[1;33m\u001b[0m\u001b[1;33m\u001b[0m\u001b[0m\n\u001b[1;32m----> 6\u001b[1;33m \u001b[0ms\u001b[0m\u001b[1;33m,\u001b[0m\u001b[0mc\u001b[0m \u001b[1;33m=\u001b[0m \u001b[0mpush_db\u001b[0m\u001b[1;33m(\u001b[0m\u001b[0mbar\u001b[0m\u001b[1;33m)\u001b[0m\u001b[1;33m\u001b[0m\u001b[1;33m\u001b[0m\u001b[0m\n\u001b[0m\u001b[0;32m      7\u001b[0m \u001b[0mprint\u001b[0m\u001b[1;33m(\u001b[0m\u001b[1;34m\"ticker {0} loaded to db:{1}; Count {2}; db closed:{3}\"\u001b[0m\u001b[1;33m.\u001b[0m\u001b[0mformat\u001b[0m\u001b[1;33m(\u001b[0m\u001b[0mticker\u001b[0m\u001b[1;33m,\u001b[0m\u001b[0ms\u001b[0m\u001b[1;33m,\u001b[0m\u001b[0mlen\u001b[0m\u001b[1;33m(\u001b[0m\u001b[0mbar\u001b[0m\u001b[1;33m)\u001b[0m\u001b[1;33m,\u001b[0m\u001b[0mc\u001b[0m\u001b[1;33m)\u001b[0m\u001b[1;33m)\u001b[0m\u001b[1;33m\u001b[0m\u001b[1;33m\u001b[0m\u001b[0m\n",
      "\u001b[1;32m<ipython-input-7-dd20f422379f>\u001b[0m in \u001b[0;36mpush_db\u001b[1;34m(bars)\u001b[0m\n\u001b[0;32m     32\u001b[0m \u001b[1;33m\u001b[0m\u001b[0m\n\u001b[0;32m     33\u001b[0m \u001b[1;32mdef\u001b[0m \u001b[0mpush_db\u001b[0m\u001b[1;33m(\u001b[0m\u001b[0mbars\u001b[0m\u001b[1;33m:\u001b[0m\u001b[0mList\u001b[0m\u001b[1;33m[\u001b[0m\u001b[0mBarData\u001b[0m\u001b[1;33m]\u001b[0m\u001b[1;33m)\u001b[0m\u001b[1;33m:\u001b[0m\u001b[1;33m\u001b[0m\u001b[1;33m\u001b[0m\u001b[0m\n\u001b[1;32m---> 34\u001b[1;33m     \u001b[0msql_db\u001b[0m \u001b[1;33m=\u001b[0m \u001b[0msqlite\u001b[0m\u001b[1;33m.\u001b[0m\u001b[0mSqliteDatabase\u001b[0m\u001b[1;33m(\u001b[0m\u001b[1;33m)\u001b[0m\u001b[1;33m\u001b[0m\u001b[1;33m\u001b[0m\u001b[0m\n\u001b[0m\u001b[0;32m     35\u001b[0m     \u001b[0mpushed\u001b[0m \u001b[1;33m=\u001b[0m \u001b[0msql_db\u001b[0m\u001b[1;33m.\u001b[0m\u001b[0msave_bar_data\u001b[0m\u001b[1;33m(\u001b[0m\u001b[0mbars\u001b[0m\u001b[1;33m)\u001b[0m\u001b[1;33m\u001b[0m\u001b[1;33m\u001b[0m\u001b[0m\n\u001b[0;32m     36\u001b[0m     \u001b[0mclosed\u001b[0m \u001b[1;33m=\u001b[0m \u001b[0msql_db\u001b[0m\u001b[1;33m.\u001b[0m\u001b[0mdb\u001b[0m\u001b[1;33m.\u001b[0m\u001b[0mclose\u001b[0m\u001b[1;33m(\u001b[0m\u001b[1;33m)\u001b[0m\u001b[1;33m\u001b[0m\u001b[1;33m\u001b[0m\u001b[0m\n",
      "\u001b[1;32mc:\\vnstudio\\lib\\site-packages\\vnpy_sqlite\\sqlite_database.py\u001b[0m in \u001b[0;36m__init__\u001b[1;34m(self)\u001b[0m\n\u001b[0;32m    130\u001b[0m         \u001b[1;34m\"\"\"\"\"\"\u001b[0m\u001b[1;33m\u001b[0m\u001b[1;33m\u001b[0m\u001b[0m\n\u001b[0;32m    131\u001b[0m         \u001b[0mself\u001b[0m\u001b[1;33m.\u001b[0m\u001b[0mdb\u001b[0m \u001b[1;33m=\u001b[0m \u001b[0mdb\u001b[0m\u001b[1;33m\u001b[0m\u001b[1;33m\u001b[0m\u001b[0m\n\u001b[1;32m--> 132\u001b[1;33m         \u001b[0mself\u001b[0m\u001b[1;33m.\u001b[0m\u001b[0mdb\u001b[0m\u001b[1;33m.\u001b[0m\u001b[0mconnect\u001b[0m\u001b[1;33m(\u001b[0m\u001b[1;33m)\u001b[0m\u001b[1;33m\u001b[0m\u001b[1;33m\u001b[0m\u001b[0m\n\u001b[0m\u001b[0;32m    133\u001b[0m         \u001b[0mself\u001b[0m\u001b[1;33m.\u001b[0m\u001b[0mdb\u001b[0m\u001b[1;33m.\u001b[0m\u001b[0mcreate_tables\u001b[0m\u001b[1;33m(\u001b[0m\u001b[1;33m[\u001b[0m\u001b[0mDbBarData\u001b[0m\u001b[1;33m,\u001b[0m \u001b[0mDbTickData\u001b[0m\u001b[1;33m,\u001b[0m \u001b[0mDbBarOverview\u001b[0m\u001b[1;33m]\u001b[0m\u001b[1;33m)\u001b[0m\u001b[1;33m\u001b[0m\u001b[1;33m\u001b[0m\u001b[0m\n\u001b[0;32m    134\u001b[0m \u001b[1;33m\u001b[0m\u001b[0m\n",
      "\u001b[1;32mc:\\vnstudio\\lib\\site-packages\\peewee.py\u001b[0m in \u001b[0;36mconnect\u001b[1;34m(self, reuse_if_open)\u001b[0m\n\u001b[0;32m   3090\u001b[0m                 \u001b[1;32mif\u001b[0m \u001b[0mreuse_if_open\u001b[0m\u001b[1;33m:\u001b[0m\u001b[1;33m\u001b[0m\u001b[1;33m\u001b[0m\u001b[0m\n\u001b[0;32m   3091\u001b[0m                     \u001b[1;32mreturn\u001b[0m \u001b[1;32mFalse\u001b[0m\u001b[1;33m\u001b[0m\u001b[1;33m\u001b[0m\u001b[0m\n\u001b[1;32m-> 3092\u001b[1;33m                 \u001b[1;32mraise\u001b[0m \u001b[0mOperationalError\u001b[0m\u001b[1;33m(\u001b[0m\u001b[1;34m'Connection already opened.'\u001b[0m\u001b[1;33m)\u001b[0m\u001b[1;33m\u001b[0m\u001b[1;33m\u001b[0m\u001b[0m\n\u001b[0m\u001b[0;32m   3093\u001b[0m \u001b[1;33m\u001b[0m\u001b[0m\n\u001b[0;32m   3094\u001b[0m             \u001b[0mself\u001b[0m\u001b[1;33m.\u001b[0m\u001b[0m_state\u001b[0m\u001b[1;33m.\u001b[0m\u001b[0mreset\u001b[0m\u001b[1;33m(\u001b[0m\u001b[1;33m)\u001b[0m\u001b[1;33m\u001b[0m\u001b[1;33m\u001b[0m\u001b[0m\n",
      "\u001b[1;31mOperationalError\u001b[0m: Connection already opened."
     ]
    }
   ],
   "source": [
    "#read leg A and B 1m history and load db\n",
    "ticker = 'IC88'\n",
    "exch = 'CFFEX'\n",
    "ticker_df = fetch_contract_history(ticker,exch,freq,src,reFetch,base_path = fut_contract_path)\n",
    "bar = ticker_df.apply(parseBar,axis = 1).to_list()\n",
    "s,c = push_db(bar)\n",
    "print(\"ticker {0} loaded to db:{1}; Count {2}; db closed:{3}\".format(ticker,s,len(bar),c))"
   ]
  },
  {
   "cell_type": "code",
   "execution_count": 31,
   "metadata": {},
   "outputs": [
    {
     "name": "stdout",
     "output_type": "stream",
     "text": [
      "ticker check: 21360 (last 200 days)\n"
     ]
    },
    {
     "data": {
      "text/plain": [
       "True"
      ]
     },
     "execution_count": 31,
     "metadata": {},
     "output_type": "execute_result"
    }
   ],
   "source": [
    "#check db load\n",
    "end_date = dt.now()\n",
    "days_delta = 200\n",
    "start_date = end_date - td(days = days_delta)\n",
    "sql_db = sqlite.SqliteDatabase()\n",
    "bar_dt_load = sql_db.load_bar_data(symbol = ticker, exchange = Exchange(exch), interval = Interval.MINUTE, start = start_date, end = end_date)\n",
    "print(\"ticker check: {0} (last {1} days)\".format(len(bar_dt_load),days_delta))\n",
    "sql_db.db.close()"
   ]
  },
  {
   "cell_type": "code",
   "execution_count": 32,
   "metadata": {
    "scrolled": true
   },
   "outputs": [
    {
     "data": {
      "text/plain": [
       "<AxesSubplot:>"
      ]
     },
     "execution_count": 32,
     "metadata": {},
     "output_type": "execute_result"
    },
    {
     "data": {
      "image/png": "[encoded data removed]",
      "text/plain": [
       "<Figure size 432x288 with 1 Axes>"
      ]
     },
     "metadata": {
      "needs_background": "light"
     },
     "output_type": "display_data"
    }
   ],
   "source": [
    "#spread quick check\n",
    "ticker_df['datetime']=ticker_df['datetime'].apply(lambda d:dt.strptime(d,d_format))\n",
    "ticker_df['close'].plot()"
   ]
  },
  {
   "cell_type": "code",
   "execution_count": 11,
   "metadata": {},
   "outputs": [
    {
     "data": {
      "text/plain": [
       "[BarData(gateway_name='DB', symbol='OI1A10', exchange=<Exchange.CZCE: 'CZCE'>, datetime=datetime.datetime(2021, 12, 26, 20, 10, tzinfo=<DstTzInfo 'America/New_York' EST-1 day, 19:00:00 STD>), interval=<Interval.MINUTE: '1m'>, volume=20.0, turnover=0.0, open_interest=0.0, open_price=12522.0, high_price=12536.0, low_price=12521.0, close_price=12536.0),\n",
       " BarData(gateway_name='DB', symbol='OI1A10', exchange=<Exchange.CZCE: 'CZCE'>, datetime=datetime.datetime(2021, 12, 26, 20, 11, tzinfo=<DstTzInfo 'America/New_York' EST-1 day, 19:00:00 STD>), interval=<Interval.MINUTE: '1m'>, volume=1.0, turnover=0.0, open_interest=0.0, open_price=12536.0, high_price=12536.0, low_price=12534.0, close_price=12534.0),\n",
       " BarData(gateway_name='DB', symbol='OI1A10', exchange=<Exchange.CZCE: 'CZCE'>, datetime=datetime.datetime(2021, 12, 26, 20, 12, tzinfo=<DstTzInfo 'America/New_York' EST-1 day, 19:00:00 STD>), interval=<Interval.MINUTE: '1m'>, volume=11.0, turnover=0.0, open_interest=0.0, open_price=12534.0, high_price=12534.0, low_price=12528.0, close_price=12528.0),\n",
       " BarData(gateway_name='DB', symbol='OI1A10', exchange=<Exchange.CZCE: 'CZCE'>, datetime=datetime.datetime(2021, 12, 26, 20, 13, tzinfo=<DstTzInfo 'America/New_York' EST-1 day, 19:00:00 STD>), interval=<Interval.MINUTE: '1m'>, volume=0.0, turnover=0.0, open_interest=0.0, open_price=12528.0, high_price=12528.0, low_price=12528.0, close_price=12528.0),\n",
       " BarData(gateway_name='DB', symbol='OI1A10', exchange=<Exchange.CZCE: 'CZCE'>, datetime=datetime.datetime(2021, 12, 26, 20, 14, tzinfo=<DstTzInfo 'America/New_York' EST-1 day, 19:00:00 STD>), interval=<Interval.MINUTE: '1m'>, volume=0.0, turnover=0.0, open_interest=0.0, open_price=12528.0, high_price=12528.0, low_price=12528.0, close_price=12528.0),\n",
       " BarData(gateway_name='DB', symbol='OI1A10', exchange=<Exchange.CZCE: 'CZCE'>, datetime=datetime.datetime(2021, 12, 26, 20, 15, tzinfo=<DstTzInfo 'America/New_York' EST-1 day, 19:00:00 STD>), interval=<Interval.MINUTE: '1m'>, volume=7.0, turnover=0.0, open_interest=0.0, open_price=12528.0, high_price=12534.0, low_price=12528.0, close_price=12533.0),\n",
       " BarData(gateway_name='DB', symbol='OI1A10', exchange=<Exchange.CZCE: 'CZCE'>, datetime=datetime.datetime(2021, 12, 26, 20, 16, tzinfo=<DstTzInfo 'America/New_York' EST-1 day, 19:00:00 STD>), interval=<Interval.MINUTE: '1m'>, volume=1.0, turnover=0.0, open_interest=0.0, open_price=12533.0, high_price=12533.0, low_price=12526.0, close_price=12526.0),\n",
       " BarData(gateway_name='DB', symbol='OI1A10', exchange=<Exchange.CZCE: 'CZCE'>, datetime=datetime.datetime(2021, 12, 26, 20, 17, tzinfo=<DstTzInfo 'America/New_York' EST-1 day, 19:00:00 STD>), interval=<Interval.MINUTE: '1m'>, volume=7.0, turnover=0.0, open_interest=0.0, open_price=12526.0, high_price=12526.0, low_price=12523.0, close_price=12523.0),\n",
       " BarData(gateway_name='DB', symbol='OI1A10', exchange=<Exchange.CZCE: 'CZCE'>, datetime=datetime.datetime(2021, 12, 26, 20, 18, tzinfo=<DstTzInfo 'America/New_York' EST-1 day, 19:00:00 STD>), interval=<Interval.MINUTE: '1m'>, volume=4.0, turnover=0.0, open_interest=0.0, open_price=12518.0, high_price=12521.0, low_price=12518.0, close_price=12521.0),\n",
       " BarData(gateway_name='DB', symbol='OI1A10', exchange=<Exchange.CZCE: 'CZCE'>, datetime=datetime.datetime(2021, 12, 26, 20, 19, tzinfo=<DstTzInfo 'America/New_York' EST-1 day, 19:00:00 STD>), interval=<Interval.MINUTE: '1m'>, volume=6.0, turnover=0.0, open_interest=0.0, open_price=12522.0, high_price=12522.0, low_price=12517.0, close_price=12517.0),\n",
       " BarData(gateway_name='DB', symbol='OI1A10', exchange=<Exchange.CZCE: 'CZCE'>, datetime=datetime.datetime(2021, 12, 26, 20, 20, tzinfo=<DstTzInfo 'America/New_York' EST-1 day, 19:00:00 STD>), interval=<Interval.MINUTE: '1m'>, volume=1.0, turnover=0.0, open_interest=0.0, open_price=12517.0, high_price=12518.0, low_price=12517.0, close_price=12518.0),\n",
       " BarData(gateway_name='DB', symbol='OI1A10', exchange=<Exchange.CZCE: 'CZCE'>, datetime=datetime.datetime(2021, 12, 26, 20, 21, tzinfo=<DstTzInfo 'America/New_York' EST-1 day, 19:00:00 STD>), interval=<Interval.MINUTE: '1m'>, volume=9.0, turnover=0.0, open_interest=0.0, open_price=12518.0, high_price=12518.0, low_price=12509.0, close_price=12509.0),\n",
       " BarData(gateway_name='DB', symbol='OI1A10', exchange=<Exchange.CZCE: 'CZCE'>, datetime=datetime.datetime(2021, 12, 26, 20, 22, tzinfo=<DstTzInfo 'America/New_York' EST-1 day, 19:00:00 STD>), interval=<Interval.MINUTE: '1m'>, volume=0.0, turnover=0.0, open_interest=0.0, open_price=12509.0, high_price=12509.0, low_price=12509.0, close_price=12509.0),\n",
       " BarData(gateway_name='DB', symbol='OI1A10', exchange=<Exchange.CZCE: 'CZCE'>, datetime=datetime.datetime(2021, 12, 26, 20, 23, tzinfo=<DstTzInfo 'America/New_York' EST-1 day, 19:00:00 STD>), interval=<Interval.MINUTE: '1m'>, volume=7.0, turnover=0.0, open_interest=0.0, open_price=12513.0, high_price=12513.0, low_price=12513.0, close_price=12513.0),\n",
       " BarData(gateway_name='DB', symbol='OI1A10', exchange=<Exchange.CZCE: 'CZCE'>, datetime=datetime.datetime(2021, 12, 26, 20, 24, tzinfo=<DstTzInfo 'America/New_York' EST-1 day, 19:00:00 STD>), interval=<Interval.MINUTE: '1m'>, volume=2.0, turnover=0.0, open_interest=0.0, open_price=12513.0, high_price=12517.0, low_price=12513.0, close_price=12517.0),\n",
       " BarData(gateway_name='DB', symbol='OI1A10', exchange=<Exchange.CZCE: 'CZCE'>, datetime=datetime.datetime(2021, 12, 26, 20, 25, tzinfo=<DstTzInfo 'America/New_York' EST-1 day, 19:00:00 STD>), interval=<Interval.MINUTE: '1m'>, volume=5.0, turnover=0.0, open_interest=0.0, open_price=12517.0, high_price=12517.0, low_price=12510.0, close_price=12512.0),\n",
       " BarData(gateway_name='DB', symbol='OI1A10', exchange=<Exchange.CZCE: 'CZCE'>, datetime=datetime.datetime(2021, 12, 26, 20, 26, tzinfo=<DstTzInfo 'America/New_York' EST-1 day, 19:00:00 STD>), interval=<Interval.MINUTE: '1m'>, volume=1.0, turnover=0.0, open_interest=0.0, open_price=12512.0, high_price=12512.0, low_price=12509.0, close_price=12509.0),\n",
       " BarData(gateway_name='DB', symbol='OI1A10', exchange=<Exchange.CZCE: 'CZCE'>, datetime=datetime.datetime(2021, 12, 26, 20, 27, tzinfo=<DstTzInfo 'America/New_York' EST-1 day, 19:00:00 STD>), interval=<Interval.MINUTE: '1m'>, volume=0.0, turnover=0.0, open_interest=0.0, open_price=12509.0, high_price=12509.0, low_price=12509.0, close_price=12509.0),\n",
       " BarData(gateway_name='DB', symbol='OI1A10', exchange=<Exchange.CZCE: 'CZCE'>, datetime=datetime.datetime(2021, 12, 26, 20, 28, tzinfo=<DstTzInfo 'America/New_York' EST-1 day, 19:00:00 STD>), interval=<Interval.MINUTE: '1m'>, volume=6.0, turnover=0.0, open_interest=0.0, open_price=12509.0, high_price=12509.0, low_price=12504.0, close_price=12504.0),\n",
       " BarData(gateway_name='DB', symbol='OI1A10', exchange=<Exchange.CZCE: 'CZCE'>, datetime=datetime.datetime(2021, 12, 26, 20, 29, tzinfo=<DstTzInfo 'America/New_York' EST-1 day, 19:00:00 STD>), interval=<Interval.MINUTE: '1m'>, volume=1.0, turnover=0.0, open_interest=0.0, open_price=12504.0, high_price=12504.0, low_price=12503.0, close_price=12503.0),\n",
       " BarData(gateway_name='DB', symbol='OI1A10', exchange=<Exchange.CZCE: 'CZCE'>, datetime=datetime.datetime(2021, 12, 26, 20, 30, tzinfo=<DstTzInfo 'America/New_York' EST-1 day, 19:00:00 STD>), interval=<Interval.MINUTE: '1m'>, volume=5.0, turnover=0.0, open_interest=0.0, open_price=12505.0, high_price=12514.0, low_price=12505.0, close_price=12514.0),\n",
       " BarData(gateway_name='DB', symbol='OI1A10', exchange=<Exchange.CZCE: 'CZCE'>, datetime=datetime.datetime(2021, 12, 26, 20, 31, tzinfo=<DstTzInfo 'America/New_York' EST-1 day, 19:00:00 STD>), interval=<Interval.MINUTE: '1m'>, volume=2.0, turnover=0.0, open_interest=0.0, open_price=12514.0, high_price=12514.0, low_price=12509.0, close_price=12509.0),\n",
       " BarData(gateway_name='DB', symbol='OI1A10', exchange=<Exchange.CZCE: 'CZCE'>, datetime=datetime.datetime(2021, 12, 26, 20, 32, tzinfo=<DstTzInfo 'America/New_York' EST-1 day, 19:00:00 STD>), interval=<Interval.MINUTE: '1m'>, volume=3.0, turnover=0.0, open_interest=0.0, open_price=12509.0, high_price=12509.0, low_price=12504.0, close_price=12504.0),\n",
       " BarData(gateway_name='DB', symbol='OI1A10', exchange=<Exchange.CZCE: 'CZCE'>, datetime=datetime.datetime(2021, 12, 26, 20, 33, tzinfo=<DstTzInfo 'America/New_York' EST-1 day, 19:00:00 STD>), interval=<Interval.MINUTE: '1m'>, volume=2.0, turnover=0.0, open_interest=0.0, open_price=12504.0, high_price=12512.0, low_price=12504.0, close_price=12512.0),\n",
       " BarData(gateway_name='DB', symbol='OI1A10', exchange=<Exchange.CZCE: 'CZCE'>, datetime=datetime.datetime(2021, 12, 26, 20, 34, tzinfo=<DstTzInfo 'America/New_York' EST-1 day, 19:00:00 STD>), interval=<Interval.MINUTE: '1m'>, volume=4.0, turnover=0.0, open_interest=0.0, open_price=12512.0, high_price=12513.0, low_price=12509.0, close_price=12509.0),\n",
       " BarData(gateway_name='DB', symbol='OI1A10', exchange=<Exchange.CZCE: 'CZCE'>, datetime=datetime.datetime(2021, 12, 26, 20, 35, tzinfo=<DstTzInfo 'America/New_York' EST-1 day, 19:00:00 STD>), interval=<Interval.MINUTE: '1m'>, volume=0.0, turnover=0.0, open_interest=0.0, open_price=12509.0, high_price=12509.0, low_price=12509.0, close_price=12509.0),\n",
       " BarData(gateway_name='DB', symbol='OI1A10', exchange=<Exchange.CZCE: 'CZCE'>, datetime=datetime.datetime(2021, 12, 26, 20, 36, tzinfo=<DstTzInfo 'America/New_York' EST-1 day, 19:00:00 STD>), interval=<Interval.MINUTE: '1m'>, volume=2.0, turnover=0.0, open_interest=0.0, open_price=12509.0, high_price=12511.0, low_price=12509.0, close_price=12511.0),\n",
       " BarData(gateway_name='DB', symbol='OI1A10', exchange=<Exchange.CZCE: 'CZCE'>, datetime=datetime.datetime(2021, 12, 26, 20, 37, tzinfo=<DstTzInfo 'America/New_York' EST-1 day, 19:00:00 STD>), interval=<Interval.MINUTE: '1m'>, volume=2.0, turnover=0.0, open_interest=0.0, open_price=12511.0, high_price=12511.0, low_price=12502.0, close_price=12502.0),\n",
       " BarData(gateway_name='DB', symbol='OI1A10', exchange=<Exchange.CZCE: 'CZCE'>, datetime=datetime.datetime(2021, 12, 26, 20, 38, tzinfo=<DstTzInfo 'America/New_York' EST-1 day, 19:00:00 STD>), interval=<Interval.MINUTE: '1m'>, volume=4.0, turnover=0.0, open_interest=0.0, open_price=12502.0, high_price=12508.0, low_price=12502.0, close_price=12508.0),\n",
       " BarData(gateway_name='DB', symbol='OI1A10', exchange=<Exchange.CZCE: 'CZCE'>, datetime=datetime.datetime(2021, 12, 26, 20, 39, tzinfo=<DstTzInfo 'America/New_York' EST-1 day, 19:00:00 STD>), interval=<Interval.MINUTE: '1m'>, volume=0.0, turnover=0.0, open_interest=0.0, open_price=12508.0, high_price=12508.0, low_price=12508.0, close_price=12508.0),\n",
       " BarData(gateway_name='DB', symbol='OI1A10', exchange=<Exchange.CZCE: 'CZCE'>, datetime=datetime.datetime(2021, 12, 26, 20, 40, tzinfo=<DstTzInfo 'America/New_York' EST-1 day, 19:00:00 STD>), interval=<Interval.MINUTE: '1m'>, volume=3.0, turnover=0.0, open_interest=0.0, open_price=12508.0, high_price=12516.0, low_price=12508.0, close_price=12515.0),\n",
       " BarData(gateway_name='DB', symbol='OI1A10', exchange=<Exchange.CZCE: 'CZCE'>, datetime=datetime.datetime(2021, 12, 26, 20, 41, tzinfo=<DstTzInfo 'America/New_York' EST-1 day, 19:00:00 STD>), interval=<Interval.MINUTE: '1m'>, volume=2.0, turnover=0.0, open_interest=0.0, open_price=12515.0, high_price=12515.0, low_price=12513.0, close_price=12513.0),\n",
       " BarData(gateway_name='DB', symbol='OI1A10', exchange=<Exchange.CZCE: 'CZCE'>, datetime=datetime.datetime(2021, 12, 26, 20, 42, tzinfo=<DstTzInfo 'America/New_York' EST-1 day, 19:00:00 STD>), interval=<Interval.MINUTE: '1m'>, volume=0.0, turnover=0.0, open_interest=0.0, open_price=12513.0, high_price=12513.0, low_price=12513.0, close_price=12513.0),\n",
       " BarData(gateway_name='DB', symbol='OI1A10', exchange=<Exchange.CZCE: 'CZCE'>, datetime=datetime.datetime(2021, 12, 26, 20, 43, tzinfo=<DstTzInfo 'America/New_York' EST-1 day, 19:00:00 STD>), interval=<Interval.MINUTE: '1m'>, volume=3.0, turnover=0.0, open_interest=0.0, open_price=12508.0, high_price=12517.0, low_price=12508.0, close_price=12511.0),\n",
       " BarData(gateway_name='DB', symbol='OI1A10', exchange=<Exchange.CZCE: 'CZCE'>, datetime=datetime.datetime(2021, 12, 26, 20, 44, tzinfo=<DstTzInfo 'America/New_York' EST-1 day, 19:00:00 STD>), interval=<Interval.MINUTE: '1m'>, volume=1.0, turnover=0.0, open_interest=0.0, open_price=12511.0, high_price=12520.0, low_price=12511.0, close_price=12520.0),\n",
       " BarData(gateway_name='DB', symbol='OI1A10', exchange=<Exchange.CZCE: 'CZCE'>, datetime=datetime.datetime(2021, 12, 26, 20, 45, tzinfo=<DstTzInfo 'America/New_York' EST-1 day, 19:00:00 STD>), interval=<Interval.MINUTE: '1m'>, volume=5.0, turnover=0.0, open_interest=0.0, open_price=12520.0, high_price=12522.0, low_price=12518.0, close_price=12522.0),\n",
       " BarData(gateway_name='DB', symbol='OI1A10', exchange=<Exchange.CZCE: 'CZCE'>, datetime=datetime.datetime(2021, 12, 26, 20, 46, tzinfo=<DstTzInfo 'America/New_York' EST-1 day, 19:00:00 STD>), interval=<Interval.MINUTE: '1m'>, volume=2.0, turnover=0.0, open_interest=0.0, open_price=12522.0, high_price=12528.0, low_price=12522.0, close_price=12528.0),\n",
       " BarData(gateway_name='DB', symbol='OI1A10', exchange=<Exchange.CZCE: 'CZCE'>, datetime=datetime.datetime(2021, 12, 26, 20, 47, tzinfo=<DstTzInfo 'America/New_York' EST-1 day, 19:00:00 STD>), interval=<Interval.MINUTE: '1m'>, volume=6.0, turnover=0.0, open_interest=0.0, open_price=12528.0, high_price=12529.0, low_price=12521.0, close_price=12529.0),\n",
       " BarData(gateway_name='DB', symbol='OI1A10', exchange=<Exchange.CZCE: 'CZCE'>, datetime=datetime.datetime(2021, 12, 26, 20, 48, tzinfo=<DstTzInfo 'America/New_York' EST-1 day, 19:00:00 STD>), interval=<Interval.MINUTE: '1m'>, volume=4.0, turnover=0.0, open_interest=0.0, open_price=12529.0, high_price=12530.0, low_price=12524.0, close_price=12530.0),\n",
       " BarData(gateway_name='DB', symbol='OI1A10', exchange=<Exchange.CZCE: 'CZCE'>, datetime=datetime.datetime(2021, 12, 26, 20, 49, tzinfo=<DstTzInfo 'America/New_York' EST-1 day, 19:00:00 STD>), interval=<Interval.MINUTE: '1m'>, volume=8.0, turnover=0.0, open_interest=0.0, open_price=12530.0, high_price=12537.0, low_price=12525.0, close_price=12528.0),\n",
       " BarData(gateway_name='DB', symbol='OI1A10', exchange=<Exchange.CZCE: 'CZCE'>, datetime=datetime.datetime(2021, 12, 26, 20, 50, tzinfo=<DstTzInfo 'America/New_York' EST-1 day, 19:00:00 STD>), interval=<Interval.MINUTE: '1m'>, volume=10.0, turnover=0.0, open_interest=0.0, open_price=12528.0, high_price=12528.0, low_price=12525.0, close_price=12525.0),\n",
       " BarData(gateway_name='DB', symbol='OI1A10', exchange=<Exchange.CZCE: 'CZCE'>, datetime=datetime.datetime(2021, 12, 26, 20, 51, tzinfo=<DstTzInfo 'America/New_York' EST-1 day, 19:00:00 STD>), interval=<Interval.MINUTE: '1m'>, volume=12.0, turnover=0.0, open_interest=0.0, open_price=12525.0, high_price=12525.0, low_price=12520.0, close_price=12520.0),\n",
       " BarData(gateway_name='DB', symbol='OI1A10', exchange=<Exchange.CZCE: 'CZCE'>, datetime=datetime.datetime(2021, 12, 26, 20, 52, tzinfo=<DstTzInfo 'America/New_York' EST-1 day, 19:00:00 STD>), interval=<Interval.MINUTE: '1m'>, volume=4.0, turnover=0.0, open_interest=0.0, open_price=12520.0, high_price=12524.0, low_price=12520.0, close_price=12524.0),\n",
       " BarData(gateway_name='DB', symbol='OI1A10', exchange=<Exchange.CZCE: 'CZCE'>, datetime=datetime.datetime(2021, 12, 26, 20, 53, tzinfo=<DstTzInfo 'America/New_York' EST-1 day, 19:00:00 STD>), interval=<Interval.MINUTE: '1m'>, volume=1.0, turnover=0.0, open_interest=0.0, open_price=12524.0, high_price=12524.0, low_price=12518.0, close_price=12518.0),\n",
       " BarData(gateway_name='DB', symbol='OI1A10', exchange=<Exchange.CZCE: 'CZCE'>, datetime=datetime.datetime(2021, 12, 26, 20, 54, tzinfo=<DstTzInfo 'America/New_York' EST-1 day, 19:00:00 STD>), interval=<Interval.MINUTE: '1m'>, volume=5.0, turnover=0.0, open_interest=0.0, open_price=12518.0, high_price=12518.0, low_price=12518.0, close_price=12518.0),\n",
       " BarData(gateway_name='DB', symbol='OI1A10', exchange=<Exchange.CZCE: 'CZCE'>, datetime=datetime.datetime(2021, 12, 26, 20, 55, tzinfo=<DstTzInfo 'America/New_York' EST-1 day, 19:00:00 STD>), interval=<Interval.MINUTE: '1m'>, volume=10.0, turnover=0.0, open_interest=0.0, open_price=12518.0, high_price=12518.0, low_price=12513.0, close_price=12514.0),\n",
       " BarData(gateway_name='DB', symbol='OI1A10', exchange=<Exchange.CZCE: 'CZCE'>, datetime=datetime.datetime(2021, 12, 26, 20, 56, tzinfo=<DstTzInfo 'America/New_York' EST-1 day, 19:00:00 STD>), interval=<Interval.MINUTE: '1m'>, volume=4.0, turnover=0.0, open_interest=0.0, open_price=12514.0, high_price=12518.0, low_price=12514.0, close_price=12518.0),\n",
       " BarData(gateway_name='DB', symbol='OI1A10', exchange=<Exchange.CZCE: 'CZCE'>, datetime=datetime.datetime(2021, 12, 26, 20, 57, tzinfo=<DstTzInfo 'America/New_York' EST-1 day, 19:00:00 STD>), interval=<Interval.MINUTE: '1m'>, volume=1.0, turnover=0.0, open_interest=0.0, open_price=12518.0, high_price=12518.0, low_price=12518.0, close_price=12518.0),\n",
       " BarData(gateway_name='DB', symbol='OI1A10', exchange=<Exchange.CZCE: 'CZCE'>, datetime=datetime.datetime(2021, 12, 26, 20, 58, tzinfo=<DstTzInfo 'America/New_York' EST-1 day, 19:00:00 STD>), interval=<Interval.MINUTE: '1m'>, volume=8.0, turnover=0.0, open_interest=0.0, open_price=12518.0, high_price=12518.0, low_price=12505.0, close_price=12509.0),\n",
       " BarData(gateway_name='DB', symbol='OI1A10', exchange=<Exchange.CZCE: 'CZCE'>, datetime=datetime.datetime(2021, 12, 26, 20, 59, tzinfo=<DstTzInfo 'America/New_York' EST-1 day, 19:00:00 STD>), interval=<Interval.MINUTE: '1m'>, volume=13.0, turnover=0.0, open_interest=0.0, open_price=12509.0, high_price=12523.0, low_price=12505.0, close_price=12516.0)]"
      ]
     },
     "execution_count": 11,
     "metadata": {},
     "output_type": "execute_result"
    }
   ],
   "source": [
    "bar_dt_load[-50:]"
   ]
  },
  {
   "cell_type": "code",
   "execution_count": 33,
   "metadata": {},
   "outputs": [],
   "source": [
    "ticker_df['datetime_key'] = ticker_df['datetime']\n",
    "ticker_df = ticker_df.set_index('datetime_key')"
   ]
  },
  {
   "cell_type": "code",
   "execution_count": 54,
   "metadata": {},
   "outputs": [],
   "source": [
    "ticker_check_df = ticker_df.loc[[d for d in ticker_df['datetime'] if d > dt(2019, 3, 1) and d < dt(2019, 4, 1)]]"
   ]
  },
  {
   "cell_type": "code",
   "execution_count": 52,
   "metadata": {},
   "outputs": [],
   "source": [
    "from ta.momentum import RSIIndicator\n",
    "from ta.trend import SMAIndicator"
   ]
  },
  {
   "cell_type": "code",
   "execution_count": 55,
   "metadata": {},
   "outputs": [],
   "source": [
    "ticker_check_df['rsi_7'] = RSIIndicator(ticker_check_df['close'],7,True).rsi()\n",
    "ticker_check_df['sma_5'] = SMAIndicator(ticker_check_df['close'],5,True).sma_indicator()\n",
    "ticker_check_df['sma_10'] = SMAIndicator(ticker_check_df['close'],10,True).sma_indicator()"
   ]
  },
  {
   "cell_type": "code",
   "execution_count": 57,
   "metadata": {},
   "outputs": [],
   "source": [
    "ticker_check_df.to_csv('IC88_1min_2019Mar.csv',index = False)"
   ]
  },
  {
   "cell_type": "code",
   "execution_count": null,
   "metadata": {},
   "outputs": [],
   "source": []
  }
 ],
 "metadata": {
  "kernelspec": {
   "display_name": "Python 3",
   "language": "python",
   "name": "python3"
  },
  "language_info": {
   "codemirror_mode": {
    "name": "ipython",
    "version": 3
   },
   "file_extension": ".py",
   "mimetype": "text/x-python",
   "name": "python",
   "nbconvert_exporter": "python",
   "pygments_lexer": "ipython3",
   "version": "3.7.1"
  }
 },
 "nbformat": 4,
 "nbformat_minor": 4
}
