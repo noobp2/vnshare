{
 "cells": [
  {
   "cell_type": "code",
   "execution_count": 10,
   "metadata": {},
   "outputs": [],
   "source": [
    "#!jt -t chesterish -T -N -f roboto -fs 10\n",
    "import numpy as np\n",
    "import pandas as pd\n",
    "import akshare as ak\n",
    "from datetime import datetime as dt\n",
    "from datetime import timedelta as td\n",
    "import os\n",
    "from enum import Enum\n",
    "from typing import List\n",
    "from vnpy.trader.object import BarData\n",
    "from vnpy.trader.constant import Direction, Offset, Exchange, Interval\n",
    "import vnpy_sqlite.sqlite_database as sqlite\n",
    "class source(Enum):\n",
    "    SINA = 'sina'\n",
    "    RQ = 'rq'"
   ]
  },
  {
   "cell_type": "code",
   "execution_count": 11,
   "metadata": {},
   "outputs": [],
   "source": [
    "#func and constants\n",
    "src = source.SINA\n",
    "freq = '1'\n",
    "reFetch:bool = True\n",
    "d_format = \"%Y-%m-%d %H:%M:%S\"\n",
    "#fut_contract_path = r'C:\\Users\\lingy\\git-repo\\xtt\\quantresearch\\dataset\\future_contract_hist'\n",
    "#fut_info_path = r'C:\\Users\\lingy\\git-repo\\xtt\\quantresearch\\dataset\\future_base_info\\rq\\futures_info_details.csv'\n",
    "fut_contract_path = r'E:\\dataset\\future_contract_hist'\n",
    "fut_info_path = r'E:\\dataset\\future_base_info\\rq\\futures_info_details.csv'\n",
    "\n",
    "def fetch_contract_history(ticker:str, exch:str,\\\n",
    "                           freq:str = '1',\\\n",
    "                           src: source = source.SINA,\\\n",
    "                           refetch: bool = False,\\\n",
    "                           base_path:str = './/dataset//future_contract_hist'):\n",
    "    filePath = os.path.join(base_path, src.value, freq, ticker + '.csv')\n",
    "    ticker_pd = pd.DataFrame()\n",
    "    if refetch: #only refetch from sina\n",
    "        ticker_pd = ak.futures_zh_minute_sina(symbol=ticker, period=freq)\n",
    "    else:\n",
    "        ticker_pd = pd.read_csv(filePath)\n",
    "    #augment df to fit vn bar object\n",
    "    if src ==source.SINA:\n",
    "        ticker_pd['order_book_id']=ticker\n",
    "    #shift 1min back to fit vn convention\n",
    "    ticker_pd['datetime'] = ticker_pd['datetime']\\\n",
    "    .apply(lambda r: dt.strftime(dt.strptime(r,d_format) - td(minutes = 1), d_format))\n",
    "    ticker_pd['exchange'] = exch\n",
    "    ticker_pd['gateway'] = src.value\n",
    "    return ticker_pd\n",
    "    \n",
    "def push_db(bars:List[BarData]):\n",
    "    sql_db = sqlite.SqliteDatabase()\n",
    "    pushed = sql_db.save_bar_data(bars)\n",
    "    closed = sql_db.db.close()\n",
    "    return pushed,closed\n",
    "def parseBar(row):\n",
    "    return BarData(symbol = row['order_book_id'],\\\n",
    "                   exchange = Exchange(row['exchange']),\\\n",
    "                   datetime = dt.strptime(row['datetime'],d_format),\\\n",
    "                  volume = float(row['volume']),\\\n",
    "                  open_price = float(row['open']),\\\n",
    "                  high_price = float(row['high']),\\\n",
    "                  low_price = float(row['low']),\\\n",
    "                  close_price = float(row['close']),\\\n",
    "                  interval = Interval.MINUTE,\\\n",
    "                  gateway_name = row['gateway'])"
   ]
  },
  {
   "cell_type": "code",
   "execution_count": 7,
   "metadata": {},
   "outputs": [
    {
     "name": "stdout",
     "output_type": "stream",
     "text": [
      "ticker IC2202 loaded to db:True; Count 3875; db closed:True\n",
      "ticker IC2203 loaded to db:True; Count 3902; db closed:True\n"
     ]
    }
   ],
   "source": [
    "#read leg A and B 1m history and load db\n",
    "tickerA = 'IC2202'\n",
    "tickerB = 'IC2203'\n",
    "exch = 'CFFEX'\n",
    "tickerA_df = fetch_contract_history(tickerA,exch,freq,src,reFetch,base_path = fut_contract_path)\n",
    "tickerB_df = fetch_contract_history(tickerB,exch,freq,src,reFetch,base_path = fut_contract_path)\n",
    "bar_A = tickerA_df.apply(parseBar,axis = 1).to_list()\n",
    "bar_B = tickerB_df.apply(parseBar,axis = 1).to_list()\n",
    "s,c = push_db(bar_A)\n",
    "print(\"ticker {0} loaded to db:{1}; Count {2}; db closed:{3}\".format(tickerA,s,len(bar_A),c))\n",
    "s,c = push_db(bar_B)\n",
    "print(\"ticker {0} loaded to db:{1}; Count {2}; db closed:{3}\".format(tickerB,s,len(bar_B),c))"
   ]
  },
  {
   "cell_type": "code",
   "execution_count": 8,
   "metadata": {},
   "outputs": [
    {
     "name": "stdout",
     "output_type": "stream",
     "text": [
      "ticker A check: 3382 (last 20 days)\n",
      "ticker B check: 3386 (last 20 days)\n"
     ]
    },
    {
     "data": {
      "text/plain": [
       "True"
      ]
     },
     "execution_count": 13,
     "metadata": {},
     "output_type": "execute_result"
    }
   ],
   "source": [
    "#check db load\n",
    "end_date = dt.now()\n",
    "days_delta = 20\n",
    "start_date = end_date - td(days = days_delta)\n",
    "sql_db = sqlite.SqliteDatabase()\n",
    "bar_dt_load = sql_db.load_bar_data(symbol = tickerA, exchange = Exchange(exch), interval = Interval.MINUTE, start = start_date, end = end_date)\n",
    "print(\"ticker A check: {0} (last {1} days)\".format(len(bar_dt_load),days_delta))\n",
    "bar_dt_load = sql_db.load_bar_data(symbol = tickerB, exchange = Exchange(exch), interval = Interval.MINUTE, start = start_date, end = end_date)\n",
    "print(\"ticker B check: {0} (last {1} days)\".format(len(bar_dt_load),days_delta))\n",
    "sql_db.db.close()"
   ]
  },
  {
   "cell_type": "code",
   "execution_count": 9,
   "metadata": {
    "scrolled": true
   },
   "outputs": [
    {
     "data": {
      "text/plain": [
       "<AxesSubplot:>"
      ]
     },
     "execution_count": 9,
     "metadata": {},
     "output_type": "execute_result"
    },
    {
     "data": {
      "image/png": "[encoded data removed]",
      "text/plain": [
       "<Figure size 432x288 with 1 Axes>"
      ]
     },
     "metadata": {
      "needs_background": "light"
     },
     "output_type": "display_data"
    }
   ],
   "source": [
    "#spread quick check\n",
    "merge_df = tickerA_df.merge(tickerB_df, left_on='datetime', right_on='datetime',\n",
    "          suffixes=('_A', '_B'))\n",
    "merge_df['datetime']=merge_df['datetime'].apply(lambda d:dt.strptime(d,d_format))\n",
    "merge_df['spread_close']=merge_df['close_A'] - merge_df['close_B']\n",
    "merge_df['spread_close'].plot()"
   ]
  },
  {
   "cell_type": "code",
   "execution_count": 10,
   "metadata": {},
   "outputs": [
    {
     "data": {
      "text/plain": [
       "[BarData(gateway_name='DB', symbol='IC2203', exchange=<Exchange.CFFEX: 'CFFEX'>, datetime=datetime.datetime(2022, 1, 21, 14, 10, tzinfo=<DstTzInfo 'Asia/Shanghai' CST+8:00:00 STD>), interval=<Interval.MINUTE: '1m'>, volume=37.0, turnover=0.0, open_interest=0.0, open_price=6990.4, high_price=6993.0, low_price=6990.2, close_price=6992.8),\n",
       " BarData(gateway_name='DB', symbol='IC2203', exchange=<Exchange.CFFEX: 'CFFEX'>, datetime=datetime.datetime(2022, 1, 21, 14, 11, tzinfo=<DstTzInfo 'Asia/Shanghai' CST+8:00:00 STD>), interval=<Interval.MINUTE: '1m'>, volume=36.0, turnover=0.0, open_interest=0.0, open_price=6992.8, high_price=6993.2, low_price=6990.0, close_price=6990.0),\n",
       " BarData(gateway_name='DB', symbol='IC2203', exchange=<Exchange.CFFEX: 'CFFEX'>, datetime=datetime.datetime(2022, 1, 21, 14, 12, tzinfo=<DstTzInfo 'Asia/Shanghai' CST+8:00:00 STD>), interval=<Interval.MINUTE: '1m'>, volume=30.0, turnover=0.0, open_interest=0.0, open_price=6990.2, high_price=6991.6, low_price=6988.0, close_price=6989.0),\n",
       " BarData(gateway_name='DB', symbol='IC2203', exchange=<Exchange.CFFEX: 'CFFEX'>, datetime=datetime.datetime(2022, 1, 21, 14, 13, tzinfo=<DstTzInfo 'Asia/Shanghai' CST+8:00:00 STD>), interval=<Interval.MINUTE: '1m'>, volume=62.0, turnover=0.0, open_interest=0.0, open_price=6989.2, high_price=6989.2, low_price=6985.4, close_price=6986.6),\n",
       " BarData(gateway_name='DB', symbol='IC2203', exchange=<Exchange.CFFEX: 'CFFEX'>, datetime=datetime.datetime(2022, 1, 21, 14, 14, tzinfo=<DstTzInfo 'Asia/Shanghai' CST+8:00:00 STD>), interval=<Interval.MINUTE: '1m'>, volume=40.0, turnover=0.0, open_interest=0.0, open_price=6986.6, high_price=6986.6, low_price=6985.0, close_price=6985.2),\n",
       " BarData(gateway_name='DB', symbol='IC2203', exchange=<Exchange.CFFEX: 'CFFEX'>, datetime=datetime.datetime(2022, 1, 21, 14, 15, tzinfo=<DstTzInfo 'Asia/Shanghai' CST+8:00:00 STD>), interval=<Interval.MINUTE: '1m'>, volume=40.0, turnover=0.0, open_interest=0.0, open_price=6985.2, high_price=6986.2, low_price=6983.2, close_price=6983.2),\n",
       " BarData(gateway_name='DB', symbol='IC2203', exchange=<Exchange.CFFEX: 'CFFEX'>, datetime=datetime.datetime(2022, 1, 21, 14, 16, tzinfo=<DstTzInfo 'Asia/Shanghai' CST+8:00:00 STD>), interval=<Interval.MINUTE: '1m'>, volume=57.0, turnover=0.0, open_interest=0.0, open_price=6983.2, high_price=6986.8, low_price=6983.2, close_price=6986.6),\n",
       " BarData(gateway_name='DB', symbol='IC2203', exchange=<Exchange.CFFEX: 'CFFEX'>, datetime=datetime.datetime(2022, 1, 21, 14, 17, tzinfo=<DstTzInfo 'Asia/Shanghai' CST+8:00:00 STD>), interval=<Interval.MINUTE: '1m'>, volume=70.0, turnover=0.0, open_interest=0.0, open_price=6986.6, high_price=6987.8, low_price=6985.2, close_price=6985.6),\n",
       " BarData(gateway_name='DB', symbol='IC2203', exchange=<Exchange.CFFEX: 'CFFEX'>, datetime=datetime.datetime(2022, 1, 21, 14, 18, tzinfo=<DstTzInfo 'Asia/Shanghai' CST+8:00:00 STD>), interval=<Interval.MINUTE: '1m'>, volume=50.0, turnover=0.0, open_interest=0.0, open_price=6985.6, high_price=6988.4, low_price=6985.2, close_price=6987.0),\n",
       " BarData(gateway_name='DB', symbol='IC2203', exchange=<Exchange.CFFEX: 'CFFEX'>, datetime=datetime.datetime(2022, 1, 21, 14, 19, tzinfo=<DstTzInfo 'Asia/Shanghai' CST+8:00:00 STD>), interval=<Interval.MINUTE: '1m'>, volume=26.0, turnover=0.0, open_interest=0.0, open_price=6986.8, high_price=6986.8, low_price=6985.0, close_price=6985.0),\n",
       " BarData(gateway_name='DB', symbol='IC2203', exchange=<Exchange.CFFEX: 'CFFEX'>, datetime=datetime.datetime(2022, 1, 21, 14, 20, tzinfo=<DstTzInfo 'Asia/Shanghai' CST+8:00:00 STD>), interval=<Interval.MINUTE: '1m'>, volume=45.0, turnover=0.0, open_interest=0.0, open_price=6985.0, high_price=6985.8, low_price=6983.0, close_price=6985.4),\n",
       " BarData(gateway_name='DB', symbol='IC2203', exchange=<Exchange.CFFEX: 'CFFEX'>, datetime=datetime.datetime(2022, 1, 21, 14, 21, tzinfo=<DstTzInfo 'Asia/Shanghai' CST+8:00:00 STD>), interval=<Interval.MINUTE: '1m'>, volume=37.0, turnover=0.0, open_interest=0.0, open_price=6985.4, high_price=6986.8, low_price=6983.2, close_price=6986.8),\n",
       " BarData(gateway_name='DB', symbol='IC2203', exchange=<Exchange.CFFEX: 'CFFEX'>, datetime=datetime.datetime(2022, 1, 21, 14, 22, tzinfo=<DstTzInfo 'Asia/Shanghai' CST+8:00:00 STD>), interval=<Interval.MINUTE: '1m'>, volume=44.0, turnover=0.0, open_interest=0.0, open_price=6986.8, high_price=6993.4, low_price=6986.2, close_price=6993.0),\n",
       " BarData(gateway_name='DB', symbol='IC2203', exchange=<Exchange.CFFEX: 'CFFEX'>, datetime=datetime.datetime(2022, 1, 21, 14, 23, tzinfo=<DstTzInfo 'Asia/Shanghai' CST+8:00:00 STD>), interval=<Interval.MINUTE: '1m'>, volume=68.0, turnover=0.0, open_interest=0.0, open_price=6993.0, high_price=6998.2, low_price=6993.0, close_price=6994.6),\n",
       " BarData(gateway_name='DB', symbol='IC2203', exchange=<Exchange.CFFEX: 'CFFEX'>, datetime=datetime.datetime(2022, 1, 21, 14, 24, tzinfo=<DstTzInfo 'Asia/Shanghai' CST+8:00:00 STD>), interval=<Interval.MINUTE: '1m'>, volume=46.0, turnover=0.0, open_interest=0.0, open_price=6994.6, high_price=6995.2, low_price=6991.8, close_price=6991.8),\n",
       " BarData(gateway_name='DB', symbol='IC2203', exchange=<Exchange.CFFEX: 'CFFEX'>, datetime=datetime.datetime(2022, 1, 21, 14, 25, tzinfo=<DstTzInfo 'Asia/Shanghai' CST+8:00:00 STD>), interval=<Interval.MINUTE: '1m'>, volume=48.0, turnover=0.0, open_interest=0.0, open_price=6991.8, high_price=6994.8, low_price=6991.0, close_price=6992.0),\n",
       " BarData(gateway_name='DB', symbol='IC2203', exchange=<Exchange.CFFEX: 'CFFEX'>, datetime=datetime.datetime(2022, 1, 21, 14, 26, tzinfo=<DstTzInfo 'Asia/Shanghai' CST+8:00:00 STD>), interval=<Interval.MINUTE: '1m'>, volume=49.0, turnover=0.0, open_interest=0.0, open_price=6992.0, high_price=6993.0, low_price=6989.6, close_price=6989.6),\n",
       " BarData(gateway_name='DB', symbol='IC2203', exchange=<Exchange.CFFEX: 'CFFEX'>, datetime=datetime.datetime(2022, 1, 21, 14, 27, tzinfo=<DstTzInfo 'Asia/Shanghai' CST+8:00:00 STD>), interval=<Interval.MINUTE: '1m'>, volume=35.0, turnover=0.0, open_interest=0.0, open_price=6989.6, high_price=6991.0, low_price=6987.6, close_price=6988.4),\n",
       " BarData(gateway_name='DB', symbol='IC2203', exchange=<Exchange.CFFEX: 'CFFEX'>, datetime=datetime.datetime(2022, 1, 21, 14, 28, tzinfo=<DstTzInfo 'Asia/Shanghai' CST+8:00:00 STD>), interval=<Interval.MINUTE: '1m'>, volume=90.0, turnover=0.0, open_interest=0.0, open_price=6988.4, high_price=6988.4, low_price=6983.6, close_price=6985.0),\n",
       " BarData(gateway_name='DB', symbol='IC2203', exchange=<Exchange.CFFEX: 'CFFEX'>, datetime=datetime.datetime(2022, 1, 21, 14, 29, tzinfo=<DstTzInfo 'Asia/Shanghai' CST+8:00:00 STD>), interval=<Interval.MINUTE: '1m'>, volume=40.0, turnover=0.0, open_interest=0.0, open_price=6985.0, high_price=6985.6, low_price=6983.6, close_price=6983.8),\n",
       " BarData(gateway_name='DB', symbol='IC2203', exchange=<Exchange.CFFEX: 'CFFEX'>, datetime=datetime.datetime(2022, 1, 21, 14, 30, tzinfo=<DstTzInfo 'Asia/Shanghai' CST+8:00:00 STD>), interval=<Interval.MINUTE: '1m'>, volume=162.0, turnover=0.0, open_interest=0.0, open_price=6983.8, high_price=6986.2, low_price=6980.0, close_price=6985.0),\n",
       " BarData(gateway_name='DB', symbol='IC2203', exchange=<Exchange.CFFEX: 'CFFEX'>, datetime=datetime.datetime(2022, 1, 21, 14, 31, tzinfo=<DstTzInfo 'Asia/Shanghai' CST+8:00:00 STD>), interval=<Interval.MINUTE: '1m'>, volume=180.0, turnover=0.0, open_interest=0.0, open_price=6985.0, high_price=6989.2, low_price=6984.0, close_price=6988.2),\n",
       " BarData(gateway_name='DB', symbol='IC2203', exchange=<Exchange.CFFEX: 'CFFEX'>, datetime=datetime.datetime(2022, 1, 21, 14, 32, tzinfo=<DstTzInfo 'Asia/Shanghai' CST+8:00:00 STD>), interval=<Interval.MINUTE: '1m'>, volume=42.0, turnover=0.0, open_interest=0.0, open_price=6988.2, high_price=6990.0, low_price=6987.0, close_price=6989.0),\n",
       " BarData(gateway_name='DB', symbol='IC2203', exchange=<Exchange.CFFEX: 'CFFEX'>, datetime=datetime.datetime(2022, 1, 21, 14, 33, tzinfo=<DstTzInfo 'Asia/Shanghai' CST+8:00:00 STD>), interval=<Interval.MINUTE: '1m'>, volume=75.0, turnover=0.0, open_interest=0.0, open_price=6989.0, high_price=6989.0, low_price=6984.2, close_price=6985.0),\n",
       " BarData(gateway_name='DB', symbol='IC2203', exchange=<Exchange.CFFEX: 'CFFEX'>, datetime=datetime.datetime(2022, 1, 21, 14, 34, tzinfo=<DstTzInfo 'Asia/Shanghai' CST+8:00:00 STD>), interval=<Interval.MINUTE: '1m'>, volume=43.0, turnover=0.0, open_interest=0.0, open_price=6985.6, high_price=6986.0, low_price=6983.6, close_price=6984.2),\n",
       " BarData(gateway_name='DB', symbol='IC2203', exchange=<Exchange.CFFEX: 'CFFEX'>, datetime=datetime.datetime(2022, 1, 21, 14, 35, tzinfo=<DstTzInfo 'Asia/Shanghai' CST+8:00:00 STD>), interval=<Interval.MINUTE: '1m'>, volume=100.0, turnover=0.0, open_interest=0.0, open_price=6984.2, high_price=6984.2, low_price=6980.0, close_price=6980.2),\n",
       " BarData(gateway_name='DB', symbol='IC2203', exchange=<Exchange.CFFEX: 'CFFEX'>, datetime=datetime.datetime(2022, 1, 21, 14, 36, tzinfo=<DstTzInfo 'Asia/Shanghai' CST+8:00:00 STD>), interval=<Interval.MINUTE: '1m'>, volume=223.0, turnover=0.0, open_interest=0.0, open_price=6980.2, high_price=6981.0, low_price=6973.6, close_price=6973.6),\n",
       " BarData(gateway_name='DB', symbol='IC2203', exchange=<Exchange.CFFEX: 'CFFEX'>, datetime=datetime.datetime(2022, 1, 21, 14, 37, tzinfo=<DstTzInfo 'Asia/Shanghai' CST+8:00:00 STD>), interval=<Interval.MINUTE: '1m'>, volume=111.0, turnover=0.0, open_interest=0.0, open_price=6973.6, high_price=6974.6, low_price=6972.2, close_price=6972.2),\n",
       " BarData(gateway_name='DB', symbol='IC2203', exchange=<Exchange.CFFEX: 'CFFEX'>, datetime=datetime.datetime(2022, 1, 21, 14, 38, tzinfo=<DstTzInfo 'Asia/Shanghai' CST+8:00:00 STD>), interval=<Interval.MINUTE: '1m'>, volume=68.0, turnover=0.0, open_interest=0.0, open_price=6972.2, high_price=6978.0, low_price=6972.2, close_price=6978.0),\n",
       " BarData(gateway_name='DB', symbol='IC2203', exchange=<Exchange.CFFEX: 'CFFEX'>, datetime=datetime.datetime(2022, 1, 21, 14, 39, tzinfo=<DstTzInfo 'Asia/Shanghai' CST+8:00:00 STD>), interval=<Interval.MINUTE: '1m'>, volume=50.0, turnover=0.0, open_interest=0.0, open_price=6978.0, high_price=6978.0, low_price=6975.0, close_price=6976.2),\n",
       " BarData(gateway_name='DB', symbol='IC2203', exchange=<Exchange.CFFEX: 'CFFEX'>, datetime=datetime.datetime(2022, 1, 21, 14, 40, tzinfo=<DstTzInfo 'Asia/Shanghai' CST+8:00:00 STD>), interval=<Interval.MINUTE: '1m'>, volume=119.0, turnover=0.0, open_interest=0.0, open_price=6976.2, high_price=6976.4, low_price=6972.6, close_price=6972.6),\n",
       " BarData(gateway_name='DB', symbol='IC2203', exchange=<Exchange.CFFEX: 'CFFEX'>, datetime=datetime.datetime(2022, 1, 21, 14, 41, tzinfo=<DstTzInfo 'Asia/Shanghai' CST+8:00:00 STD>), interval=<Interval.MINUTE: '1m'>, volume=74.0, turnover=0.0, open_interest=0.0, open_price=6972.6, high_price=6973.6, low_price=6971.0, close_price=6973.2),\n",
       " BarData(gateway_name='DB', symbol='IC2203', exchange=<Exchange.CFFEX: 'CFFEX'>, datetime=datetime.datetime(2022, 1, 21, 14, 42, tzinfo=<DstTzInfo 'Asia/Shanghai' CST+8:00:00 STD>), interval=<Interval.MINUTE: '1m'>, volume=76.0, turnover=0.0, open_interest=0.0, open_price=6973.2, high_price=6976.8, low_price=6972.0, close_price=6976.8),\n",
       " BarData(gateway_name='DB', symbol='IC2203', exchange=<Exchange.CFFEX: 'CFFEX'>, datetime=datetime.datetime(2022, 1, 21, 14, 43, tzinfo=<DstTzInfo 'Asia/Shanghai' CST+8:00:00 STD>), interval=<Interval.MINUTE: '1m'>, volume=50.0, turnover=0.0, open_interest=0.0, open_price=6976.8, high_price=6976.8, low_price=6973.2, close_price=6973.8),\n",
       " BarData(gateway_name='DB', symbol='IC2203', exchange=<Exchange.CFFEX: 'CFFEX'>, datetime=datetime.datetime(2022, 1, 21, 14, 44, tzinfo=<DstTzInfo 'Asia/Shanghai' CST+8:00:00 STD>), interval=<Interval.MINUTE: '1m'>, volume=63.0, turnover=0.0, open_interest=0.0, open_price=6973.8, high_price=6977.8, low_price=6973.8, close_price=6977.8),\n",
       " BarData(gateway_name='DB', symbol='IC2203', exchange=<Exchange.CFFEX: 'CFFEX'>, datetime=datetime.datetime(2022, 1, 21, 14, 45, tzinfo=<DstTzInfo 'Asia/Shanghai' CST+8:00:00 STD>), interval=<Interval.MINUTE: '1m'>, volume=144.0, turnover=0.0, open_interest=0.0, open_price=6977.6, high_price=6979.4, low_price=6975.0, close_price=6978.6),\n",
       " BarData(gateway_name='DB', symbol='IC2203', exchange=<Exchange.CFFEX: 'CFFEX'>, datetime=datetime.datetime(2022, 1, 21, 14, 46, tzinfo=<DstTzInfo 'Asia/Shanghai' CST+8:00:00 STD>), interval=<Interval.MINUTE: '1m'>, volume=136.0, turnover=0.0, open_interest=0.0, open_price=6978.8, high_price=6985.6, low_price=6978.0, close_price=6984.4),\n",
       " BarData(gateway_name='DB', symbol='IC2203', exchange=<Exchange.CFFEX: 'CFFEX'>, datetime=datetime.datetime(2022, 1, 21, 14, 47, tzinfo=<DstTzInfo 'Asia/Shanghai' CST+8:00:00 STD>), interval=<Interval.MINUTE: '1m'>, volume=92.0, turnover=0.0, open_interest=0.0, open_price=6984.4, high_price=6985.0, low_price=6981.8, close_price=6983.0),\n",
       " BarData(gateway_name='DB', symbol='IC2203', exchange=<Exchange.CFFEX: 'CFFEX'>, datetime=datetime.datetime(2022, 1, 21, 14, 48, tzinfo=<DstTzInfo 'Asia/Shanghai' CST+8:00:00 STD>), interval=<Interval.MINUTE: '1m'>, volume=109.0, turnover=0.0, open_interest=0.0, open_price=6983.6, high_price=6984.6, low_price=6980.4, close_price=6983.4),\n",
       " BarData(gateway_name='DB', symbol='IC2203', exchange=<Exchange.CFFEX: 'CFFEX'>, datetime=datetime.datetime(2022, 1, 21, 14, 49, tzinfo=<DstTzInfo 'Asia/Shanghai' CST+8:00:00 STD>), interval=<Interval.MINUTE: '1m'>, volume=154.0, turnover=0.0, open_interest=0.0, open_price=6984.2, high_price=6989.6, low_price=6983.4, close_price=6989.4),\n",
       " BarData(gateway_name='DB', symbol='IC2203', exchange=<Exchange.CFFEX: 'CFFEX'>, datetime=datetime.datetime(2022, 1, 21, 14, 50, tzinfo=<DstTzInfo 'Asia/Shanghai' CST+8:00:00 STD>), interval=<Interval.MINUTE: '1m'>, volume=338.0, turnover=0.0, open_interest=0.0, open_price=6990.0, high_price=6991.0, low_price=6987.0, close_price=6991.0),\n",
       " BarData(gateway_name='DB', symbol='IC2203', exchange=<Exchange.CFFEX: 'CFFEX'>, datetime=datetime.datetime(2022, 1, 21, 14, 51, tzinfo=<DstTzInfo 'Asia/Shanghai' CST+8:00:00 STD>), interval=<Interval.MINUTE: '1m'>, volume=312.0, turnover=0.0, open_interest=0.0, open_price=6991.4, high_price=6993.0, low_price=6990.2, close_price=6992.0),\n",
       " BarData(gateway_name='DB', symbol='IC2203', exchange=<Exchange.CFFEX: 'CFFEX'>, datetime=datetime.datetime(2022, 1, 21, 14, 52, tzinfo=<DstTzInfo 'Asia/Shanghai' CST+8:00:00 STD>), interval=<Interval.MINUTE: '1m'>, volume=161.0, turnover=0.0, open_interest=0.0, open_price=6993.0, high_price=6995.0, low_price=6992.2, close_price=6993.6),\n",
       " BarData(gateway_name='DB', symbol='IC2203', exchange=<Exchange.CFFEX: 'CFFEX'>, datetime=datetime.datetime(2022, 1, 21, 14, 53, tzinfo=<DstTzInfo 'Asia/Shanghai' CST+8:00:00 STD>), interval=<Interval.MINUTE: '1m'>, volume=125.0, turnover=0.0, open_interest=0.0, open_price=6993.6, high_price=6994.0, low_price=6990.2, close_price=6992.6),\n",
       " BarData(gateway_name='DB', symbol='IC2203', exchange=<Exchange.CFFEX: 'CFFEX'>, datetime=datetime.datetime(2022, 1, 21, 14, 54, tzinfo=<DstTzInfo 'Asia/Shanghai' CST+8:00:00 STD>), interval=<Interval.MINUTE: '1m'>, volume=139.0, turnover=0.0, open_interest=0.0, open_price=6992.6, high_price=6994.0, low_price=6991.8, close_price=6994.0),\n",
       " BarData(gateway_name='DB', symbol='IC2203', exchange=<Exchange.CFFEX: 'CFFEX'>, datetime=datetime.datetime(2022, 1, 21, 14, 55, tzinfo=<DstTzInfo 'Asia/Shanghai' CST+8:00:00 STD>), interval=<Interval.MINUTE: '1m'>, volume=277.0, turnover=0.0, open_interest=0.0, open_price=6994.0, high_price=6994.4, low_price=6988.8, close_price=6989.0),\n",
       " BarData(gateway_name='DB', symbol='IC2203', exchange=<Exchange.CFFEX: 'CFFEX'>, datetime=datetime.datetime(2022, 1, 21, 14, 56, tzinfo=<DstTzInfo 'Asia/Shanghai' CST+8:00:00 STD>), interval=<Interval.MINUTE: '1m'>, volume=289.0, turnover=0.0, open_interest=0.0, open_price=6989.2, high_price=6994.8, low_price=6989.0, close_price=6994.6),\n",
       " BarData(gateway_name='DB', symbol='IC2203', exchange=<Exchange.CFFEX: 'CFFEX'>, datetime=datetime.datetime(2022, 1, 21, 14, 57, tzinfo=<DstTzInfo 'Asia/Shanghai' CST+8:00:00 STD>), interval=<Interval.MINUTE: '1m'>, volume=180.0, turnover=0.0, open_interest=0.0, open_price=6995.0, high_price=6996.8, low_price=6995.0, close_price=6995.4),\n",
       " BarData(gateway_name='DB', symbol='IC2203', exchange=<Exchange.CFFEX: 'CFFEX'>, datetime=datetime.datetime(2022, 1, 21, 14, 58, tzinfo=<DstTzInfo 'Asia/Shanghai' CST+8:00:00 STD>), interval=<Interval.MINUTE: '1m'>, volume=278.0, turnover=0.0, open_interest=0.0, open_price=6995.8, high_price=6999.0, low_price=6995.4, close_price=6997.2),\n",
       " BarData(gateway_name='DB', symbol='IC2203', exchange=<Exchange.CFFEX: 'CFFEX'>, datetime=datetime.datetime(2022, 1, 21, 14, 59, tzinfo=<DstTzInfo 'Asia/Shanghai' CST+8:00:00 STD>), interval=<Interval.MINUTE: '1m'>, volume=261.0, turnover=0.0, open_interest=0.0, open_price=6997.2, high_price=7000.0, low_price=6995.0, close_price=6995.0)]"
      ]
     },
     "execution_count": 10,
     "metadata": {},
     "output_type": "execute_result"
    }
   ],
   "source": [
    "bar_dt_load[-50:]"
   ]
  },
  {
   "cell_type": "code",
   "execution_count": null,
   "metadata": {},
   "outputs": [],
   "source": []
  }
 ],
 "metadata": {
  "kernelspec": {
   "display_name": "Python 3 (ipykernel)",
   "language": "python",
   "name": "python3"
  },
  "language_info": {
   "codemirror_mode": {
    "name": "ipython",
    "version": 3
   },
   "file_extension": ".py",
   "mimetype": "text/x-python",
   "name": "python",
   "nbconvert_exporter": "python",
   "pygments_lexer": "ipython3",
   "version": "3.7.11"
  }
 },
 "nbformat": 4,
 "nbformat_minor": 4
}
