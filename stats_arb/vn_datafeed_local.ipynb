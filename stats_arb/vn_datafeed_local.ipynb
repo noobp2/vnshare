{
 "cells": [
  {
   "cell_type": "code",
   "execution_count": 1,
   "metadata": {},
   "outputs": [],
   "source": [
    "#!jt -t chesterish -T -N -f roboto -fs 10\n",
    "import numpy as np\n",
    "import pandas as pd\n",
    "import akshare as ak\n",
    "from datetime import datetime as dt\n",
    "from datetime import timedelta as td\n",
    "import os\n",
    "from enum import Enum\n",
    "from typing import List\n",
    "from vnpy.trader.object import BarData\n",
    "from vnpy.trader.constant import Direction, Offset, Exchange, Interval\n",
    "import vnpy_sqlite.sqlite_database as sqlite\n",
    "class source(Enum):\n",
    "    SINA = 'sina'\n",
    "    RQ = 'rq'"
   ]
  },
  {
   "cell_type": "code",
   "execution_count": 2,
   "metadata": {},
   "outputs": [],
   "source": [
    "#func and constant\n",
    "d_format = \"%Y-%m-%d %H:%M:%S\"\n",
    "def fetch_contract_history(ticker:str, exch:str,\\\n",
    "                           freq:str = '1',\\\n",
    "                           src: source = source.SINA,\\\n",
    "                           refetch: bool = False,\\\n",
    "                           base_path:str = './/dataset//future_contract_hist'):\n",
    "    filePath = os.path.join(base_path, src.value, freq, ticker + '.csv')\n",
    "    ticker_pd = pd.DataFrame()\n",
    "    if refetch: #only refetch from sina\n",
    "        ticker_pd = ak.futures_zh_minute_sina(symbol=ticker, period=freq)\n",
    "    else:\n",
    "        ticker_pd = pd.read_csv(filePath)\n",
    "    #augment df to fit vn bar object\n",
    "    if src ==source.SINA:\n",
    "        ticker_pd['order_book_id']=ticker\n",
    "    #shift 1min back to fit vn convention\n",
    "    ticker_pd['datetime'] = ticker_pd['datetime']\\\n",
    "    .apply(lambda r: dt.strftime(dt.strptime(r,d_format) - td(minutes = 1), d_format))\n",
    "    ticker_pd['exchange'] = exch\n",
    "    ticker_pd['gateway'] = src.value\n",
    "    return ticker_pd\n",
    "    \n",
    "def push_db(bars:List[BarData]):\n",
    "    sql_db = sqlite.SqliteDatabase()\n",
    "    pushed = sql_db.save_bar_data(bars)\n",
    "    closed = sql_db.db.close()\n",
    "    return pushed,closed\n",
    "def parseBar(row):\n",
    "    return BarData(symbol = row['order_book_id'],\\\n",
    "                   exchange = Exchange(row['exchange']),\\\n",
    "                   datetime = dt.strptime(row['datetime'],d_format),\\\n",
    "                  volume = float(row['volume']),\\\n",
    "                  open_price = float(row['open']),\\\n",
    "                  high_price = float(row['high']),\\\n",
    "                  low_price = float(row['low']),\\\n",
    "                  close_price = float(row['close']),\\\n",
    "                  interval = Interval.MINUTE,\\\n",
    "                  gateway_name = row['gateway'])"
   ]
  },
  {
   "cell_type": "code",
   "execution_count": 3,
   "metadata": {},
   "outputs": [],
   "source": [
    "#params\n",
    "src = source.SINA\n",
    "freq = '1'\n",
    "reFetch:bool = False\n",
    "tickerA = 'cu2203'\n",
    "tickerB = 'cu2204'\n",
    "exch = 'SHFE'\n",
    "fut_contract_path = r'E:\\dataset\\future_contract_hist'\n",
    "fut_info_path = r'E:\\dataset\\future_base_info\\rq\\futures_info_details.csv'"
   ]
  },
  {
   "cell_type": "code",
   "execution_count": 4,
   "metadata": {},
   "outputs": [
    {
     "name": "stdout",
     "output_type": "stream",
     "text": [
      "ticker cu2203 loaded to db:True; Count 13325; db closed:True\n",
      "ticker cu2204 loaded to db:True; Count 12967; db closed:True\n"
     ]
    }
   ],
   "source": [
    "#read leg A and B 1m history and load db\n",
    "tickerA_df = fetch_contract_history(tickerA,exch,freq,src,reFetch,base_path = fut_contract_path)\n",
    "tickerB_df = fetch_contract_history(tickerB,exch,freq,src,reFetch,base_path = fut_contract_path)\n",
    "bar_A = tickerA_df.apply(parseBar,axis = 1).to_list()\n",
    "bar_B = tickerB_df.apply(parseBar,axis = 1).to_list()\n",
    "s,c = push_db(bar_A)\n",
    "print(\"ticker {0} loaded to db:{1}; Count {2}; db closed:{3}\".format(tickerA,s,len(bar_A),c))\n",
    "s,c = push_db(bar_B)\n",
    "print(\"ticker {0} loaded to db:{1}; Count {2}; db closed:{3}\".format(tickerB,s,len(bar_B),c))"
   ]
  },
  {
   "cell_type": "code",
   "execution_count": 5,
   "metadata": {},
   "outputs": [
    {
     "name": "stdout",
     "output_type": "stream",
     "text": [
      "ticker A check: 4645 (last 20 days)\n",
      "ticker B check: 4631 (last 20 days)\n"
     ]
    },
    {
     "data": {
      "text/plain": [
       "True"
      ]
     },
     "execution_count": 5,
     "metadata": {},
     "output_type": "execute_result"
    }
   ],
   "source": [
    "#check db load\n",
    "end_date = dt.now()\n",
    "days_delta = 20\n",
    "start_date = end_date - td(days = days_delta)\n",
    "sql_db = sqlite.SqliteDatabase()\n",
    "bar_dt_load = sql_db.load_bar_data(symbol = tickerA, exchange = Exchange(exch), interval = Interval.MINUTE, start = start_date, end = end_date)\n",
    "print(\"ticker A check: {0} (last {1} days)\".format(len(bar_dt_load),days_delta))\n",
    "bar_dt_load = sql_db.load_bar_data(symbol = tickerB, exchange = Exchange(exch), interval = Interval.MINUTE, start = start_date, end = end_date)\n",
    "print(\"ticker B check: {0} (last {1} days)\".format(len(bar_dt_load),days_delta))\n",
    "sql_db.db.close()"
   ]
  },
  {
   "cell_type": "code",
   "execution_count": 6,
   "metadata": {
    "scrolled": true
   },
   "outputs": [
    {
     "data": {
      "text/plain": [
       "<AxesSubplot:>"
      ]
     },
     "execution_count": 6,
     "metadata": {},
     "output_type": "execute_result"
    },
    {
     "data": {
      "image/png": "[encoded data removed]",
      "text/plain": [
       "<Figure size 432x288 with 1 Axes>"
      ]
     },
     "metadata": {
      "needs_background": "light"
     },
     "output_type": "display_data"
    }
   ],
   "source": [
    "#spread quick check\n",
    "merge_df = tickerA_df.merge(tickerB_df, left_on='datetime', right_on='datetime',\n",
    "          suffixes=('_A', '_B'))\n",
    "merge_df['datetime']=merge_df['datetime'].apply(lambda d:dt.strptime(d,d_format))\n",
    "merge_df['spread_close']=merge_df['close_A'] - merge_df['close_B']\n",
    "merge_df['spread_close'].plot()"
   ]
  },
  {
   "cell_type": "code",
   "execution_count": 7,
   "metadata": {},
   "outputs": [
    {
     "data": {
      "text/plain": [
       "[BarData(gateway_name='DB', symbol='cu2204', exchange=<Exchange.SHFE: 'SHFE'>, datetime=datetime.datetime(2022, 2, 19, 0, 40, tzinfo=<DstTzInfo 'Asia/Shanghai' CST+8:00:00 STD>), interval=<Interval.MINUTE: '1m'>, volume=7.0, turnover=0.0, open_interest=0.0, open_price=71540.0, high_price=71550.0, low_price=71540.0, close_price=71550.0),\n",
       " BarData(gateway_name='DB', symbol='cu2204', exchange=<Exchange.SHFE: 'SHFE'>, datetime=datetime.datetime(2022, 2, 19, 0, 41, tzinfo=<DstTzInfo 'Asia/Shanghai' CST+8:00:00 STD>), interval=<Interval.MINUTE: '1m'>, volume=19.0, turnover=0.0, open_interest=0.0, open_price=71550.0, high_price=71570.0, low_price=71540.0, close_price=71540.0),\n",
       " BarData(gateway_name='DB', symbol='cu2204', exchange=<Exchange.SHFE: 'SHFE'>, datetime=datetime.datetime(2022, 2, 19, 0, 42, tzinfo=<DstTzInfo 'Asia/Shanghai' CST+8:00:00 STD>), interval=<Interval.MINUTE: '1m'>, volume=10.0, turnover=0.0, open_interest=0.0, open_price=71540.0, high_price=71550.0, low_price=71530.0, close_price=71530.0),\n",
       " BarData(gateway_name='DB', symbol='cu2204', exchange=<Exchange.SHFE: 'SHFE'>, datetime=datetime.datetime(2022, 2, 19, 0, 43, tzinfo=<DstTzInfo 'Asia/Shanghai' CST+8:00:00 STD>), interval=<Interval.MINUTE: '1m'>, volume=38.0, turnover=0.0, open_interest=0.0, open_price=71540.0, high_price=71540.0, low_price=71520.0, close_price=71520.0),\n",
       " BarData(gateway_name='DB', symbol='cu2204', exchange=<Exchange.SHFE: 'SHFE'>, datetime=datetime.datetime(2022, 2, 19, 0, 44, tzinfo=<DstTzInfo 'Asia/Shanghai' CST+8:00:00 STD>), interval=<Interval.MINUTE: '1m'>, volume=45.0, turnover=0.0, open_interest=0.0, open_price=71520.0, high_price=71540.0, low_price=71520.0, close_price=71540.0),\n",
       " BarData(gateway_name='DB', symbol='cu2204', exchange=<Exchange.SHFE: 'SHFE'>, datetime=datetime.datetime(2022, 2, 19, 0, 45, tzinfo=<DstTzInfo 'Asia/Shanghai' CST+8:00:00 STD>), interval=<Interval.MINUTE: '1m'>, volume=21.0, turnover=0.0, open_interest=0.0, open_price=71540.0, high_price=71540.0, low_price=71520.0, close_price=71530.0),\n",
       " BarData(gateway_name='DB', symbol='cu2204', exchange=<Exchange.SHFE: 'SHFE'>, datetime=datetime.datetime(2022, 2, 19, 0, 46, tzinfo=<DstTzInfo 'Asia/Shanghai' CST+8:00:00 STD>), interval=<Interval.MINUTE: '1m'>, volume=5.0, turnover=0.0, open_interest=0.0, open_price=71530.0, high_price=71540.0, low_price=71520.0, close_price=71530.0),\n",
       " BarData(gateway_name='DB', symbol='cu2204', exchange=<Exchange.SHFE: 'SHFE'>, datetime=datetime.datetime(2022, 2, 19, 0, 47, tzinfo=<DstTzInfo 'Asia/Shanghai' CST+8:00:00 STD>), interval=<Interval.MINUTE: '1m'>, volume=22.0, turnover=0.0, open_interest=0.0, open_price=71530.0, high_price=71540.0, low_price=71520.0, close_price=71530.0),\n",
       " BarData(gateway_name='DB', symbol='cu2204', exchange=<Exchange.SHFE: 'SHFE'>, datetime=datetime.datetime(2022, 2, 19, 0, 48, tzinfo=<DstTzInfo 'Asia/Shanghai' CST+8:00:00 STD>), interval=<Interval.MINUTE: '1m'>, volume=9.0, turnover=0.0, open_interest=0.0, open_price=71530.0, high_price=71540.0, low_price=71520.0, close_price=71530.0),\n",
       " BarData(gateway_name='DB', symbol='cu2204', exchange=<Exchange.SHFE: 'SHFE'>, datetime=datetime.datetime(2022, 2, 19, 0, 49, tzinfo=<DstTzInfo 'Asia/Shanghai' CST+8:00:00 STD>), interval=<Interval.MINUTE: '1m'>, volume=14.0, turnover=0.0, open_interest=0.0, open_price=71530.0, high_price=71540.0, low_price=71530.0, close_price=71530.0),\n",
       " BarData(gateway_name='DB', symbol='cu2204', exchange=<Exchange.SHFE: 'SHFE'>, datetime=datetime.datetime(2022, 2, 19, 0, 50, tzinfo=<DstTzInfo 'Asia/Shanghai' CST+8:00:00 STD>), interval=<Interval.MINUTE: '1m'>, volume=132.0, turnover=0.0, open_interest=0.0, open_price=71530.0, high_price=71530.0, low_price=71500.0, close_price=71510.0),\n",
       " BarData(gateway_name='DB', symbol='cu2204', exchange=<Exchange.SHFE: 'SHFE'>, datetime=datetime.datetime(2022, 2, 19, 0, 51, tzinfo=<DstTzInfo 'Asia/Shanghai' CST+8:00:00 STD>), interval=<Interval.MINUTE: '1m'>, volume=40.0, turnover=0.0, open_interest=0.0, open_price=71510.0, high_price=71520.0, low_price=71500.0, close_price=71500.0),\n",
       " BarData(gateway_name='DB', symbol='cu2204', exchange=<Exchange.SHFE: 'SHFE'>, datetime=datetime.datetime(2022, 2, 19, 0, 52, tzinfo=<DstTzInfo 'Asia/Shanghai' CST+8:00:00 STD>), interval=<Interval.MINUTE: '1m'>, volume=100.0, turnover=0.0, open_interest=0.0, open_price=71500.0, high_price=71510.0, low_price=71480.0, close_price=71480.0),\n",
       " BarData(gateway_name='DB', symbol='cu2204', exchange=<Exchange.SHFE: 'SHFE'>, datetime=datetime.datetime(2022, 2, 19, 0, 53, tzinfo=<DstTzInfo 'Asia/Shanghai' CST+8:00:00 STD>), interval=<Interval.MINUTE: '1m'>, volume=20.0, turnover=0.0, open_interest=0.0, open_price=71480.0, high_price=71490.0, low_price=71480.0, close_price=71480.0),\n",
       " BarData(gateway_name='DB', symbol='cu2204', exchange=<Exchange.SHFE: 'SHFE'>, datetime=datetime.datetime(2022, 2, 19, 0, 54, tzinfo=<DstTzInfo 'Asia/Shanghai' CST+8:00:00 STD>), interval=<Interval.MINUTE: '1m'>, volume=141.0, turnover=0.0, open_interest=0.0, open_price=71480.0, high_price=71490.0, low_price=71450.0, close_price=71460.0),\n",
       " BarData(gateway_name='DB', symbol='cu2204', exchange=<Exchange.SHFE: 'SHFE'>, datetime=datetime.datetime(2022, 2, 19, 0, 55, tzinfo=<DstTzInfo 'Asia/Shanghai' CST+8:00:00 STD>), interval=<Interval.MINUTE: '1m'>, volume=220.0, turnover=0.0, open_interest=0.0, open_price=71460.0, high_price=71480.0, low_price=71420.0, close_price=71450.0),\n",
       " BarData(gateway_name='DB', symbol='cu2204', exchange=<Exchange.SHFE: 'SHFE'>, datetime=datetime.datetime(2022, 2, 19, 0, 56, tzinfo=<DstTzInfo 'Asia/Shanghai' CST+8:00:00 STD>), interval=<Interval.MINUTE: '1m'>, volume=72.0, turnover=0.0, open_interest=0.0, open_price=71450.0, high_price=71450.0, low_price=71430.0, close_price=71430.0),\n",
       " BarData(gateway_name='DB', symbol='cu2204', exchange=<Exchange.SHFE: 'SHFE'>, datetime=datetime.datetime(2022, 2, 19, 0, 57, tzinfo=<DstTzInfo 'Asia/Shanghai' CST+8:00:00 STD>), interval=<Interval.MINUTE: '1m'>, volume=125.0, turnover=0.0, open_interest=0.0, open_price=71430.0, high_price=71450.0, low_price=71430.0, close_price=71450.0),\n",
       " BarData(gateway_name='DB', symbol='cu2204', exchange=<Exchange.SHFE: 'SHFE'>, datetime=datetime.datetime(2022, 2, 19, 0, 58, tzinfo=<DstTzInfo 'Asia/Shanghai' CST+8:00:00 STD>), interval=<Interval.MINUTE: '1m'>, volume=158.0, turnover=0.0, open_interest=0.0, open_price=71430.0, high_price=71470.0, low_price=71430.0, close_price=71450.0),\n",
       " BarData(gateway_name='DB', symbol='cu2204', exchange=<Exchange.SHFE: 'SHFE'>, datetime=datetime.datetime(2022, 2, 19, 0, 59, tzinfo=<DstTzInfo 'Asia/Shanghai' CST+8:00:00 STD>), interval=<Interval.MINUTE: '1m'>, volume=246.0, turnover=0.0, open_interest=0.0, open_price=71460.0, high_price=71500.0, low_price=71440.0, close_price=71480.0)]"
      ]
     },
     "execution_count": 7,
     "metadata": {},
     "output_type": "execute_result"
    }
   ],
   "source": [
    "bar_dt_load[-20:]"
   ]
  },
  {
   "cell_type": "code",
   "execution_count": null,
   "metadata": {},
   "outputs": [],
   "source": []
  }
 ],
 "metadata": {
  "kernelspec": {
   "display_name": "Python 3 (ipykernel)",
   "language": "python",
   "name": "python3"
  },
  "language_info": {
   "codemirror_mode": {
    "name": "ipython",
    "version": 3
   },
   "file_extension": ".py",
   "mimetype": "text/x-python",
   "name": "python",
   "nbconvert_exporter": "python",
   "pygments_lexer": "ipython3",
   "version": "3.7.11"
  }
 },
 "nbformat": 4,
 "nbformat_minor": 4
}
